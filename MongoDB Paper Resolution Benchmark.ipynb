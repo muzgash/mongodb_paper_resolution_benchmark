{
 "cells": [
  {
   "cell_type": "code",
   "execution_count": 29,
   "id": "aa01610a-9afc-488b-80e5-8af7e6d448af",
   "metadata": {},
   "outputs": [],
   "source": [
    "from pymongo import MongoClient\n",
    "from thefuzz import fuzz, process\n",
    "from joblib import Parallel, delayed\n",
    "import numpy as np\n",
    "import matplotlib.pyplot as plt\n",
    "import pandas as pd\n",
    "import re\n",
    "from unidecode import unidecode\n",
    "from scipy.stats import norm"
   ]
  },
  {
   "cell_type": "code",
   "execution_count": 2,
   "id": "75f5ea1a-ed1c-46aa-9aec-43a5bb6383e1",
   "metadata": {},
   "outputs": [],
   "source": [
    "client = MongoClient()\n",
    "scopus = client[\"scopus_colombia\"][\"stage\"]\n",
    "openalex = client[\"openalexco\"][\"works\"]"
   ]
  },
  {
   "cell_type": "code",
   "execution_count": 3,
   "id": "456aec62-e6ed-420c-8316-209c7fb53bc7",
   "metadata": {},
   "outputs": [],
   "source": [
    "openalexdata = list(openalex.find({\"doi\":{\"$ne\":None},\"title\":{\"$ne\":None}},{\"title\":1,\"doi\":1,\"publication_year\":1,\"host_venue\":1}))"
   ]
  },
  {
   "cell_type": "code",
   "execution_count": 4,
   "id": "49b1a9a7-4bb3-4f53-bd38-67b06ac56654",
   "metadata": {},
   "outputs": [],
   "source": [
    "def parse_string(text):\n",
    "    text = unidecode(text.lower())\n",
    "    text = re.sub( r'[\\$_\\^]','', re.sub(r'\\\\\\w+','',text ))\n",
    "    return str(text)\n",
    "\n",
    "def __colav_similarity(title1,title2,journal1,journal2,year1,year2, ratio_thold=90, partial_thold=95,low_thold=80,verbose=0):\n",
    "\n",
    "    label = False\n",
    "    \n",
    "    #Se revisa si los años y las revistas coinciden\n",
    "    journal_check = False\n",
    "    if journal1 and journal2:\n",
    "        if fuzz.partial_ratio(unidecode(journal1.lower()),unidecode(journal2.lower()))>ratio_thold:\n",
    "            journal_check=True\n",
    "    year_check=False\n",
    "    if year1 and year2:\n",
    "        if year1==year2:\n",
    "            year_check = True\n",
    "    \n",
    "    length_check=False\n",
    "    if len(title1.split())>3 and len(title2.split())>3:\n",
    "        length_check=True\n",
    "        \n",
    "    #Si son pocas palabras y no hay por lo menos revista o año para revisar, se descarta de uan vez\n",
    "    if length_check == False and (journal_check == False or year_check == False):\n",
    "        return label\n",
    "    \n",
    "    if verbose==5:\n",
    "        if journal_check: print(\"Journals are the same\")\n",
    "        if year_check: print(\"Years are the same\")\n",
    "    \n",
    "    ratio = fuzz.ratio(title1, title2)\n",
    "    if verbose==5: print(\"Initial ratio: \",ratio)\n",
    "    if ratio > ratio_thold and length_check: #Comparación \"directa\"\n",
    "        label = True\n",
    "    if label == False:\n",
    "        #Comparaciones cuando el título viene en varios idiomas\n",
    "        title1_list=title1.split(\"[\")\n",
    "        title2_list=title2.split(\"[\")\n",
    "        if min([len(item) for item in title1_list]) > 10 and min([len(item) for item in title2_list]) > 10:\n",
    "            for title in title1_list:\n",
    "                tmp_title,ratio=process.extractOne(title,title2_list,scorer=fuzz.ratio)\n",
    "                if ratio > ratio_thold:\n",
    "                    label=True\n",
    "                    break\n",
    "            #if verbose==5: print(\"ratio over list: \",ratio)\n",
    "            if label==False:\n",
    "                for title in title1_list:\n",
    "                    tmp_title,ratio=process.extractOne(title,title2_list,scorer=fuzz.partial_ratio)\n",
    "                    if ratio > partial_thold:\n",
    "                        label=True\n",
    "                        break\n",
    "                    elif ratio > low_thold:\n",
    "                        if journal_check and year_check:\n",
    "                            label=True\n",
    "                            break\n",
    "                #if verbose==5: print(\"partial ratio over list: \",ratio)\n",
    "    \n",
    "    #Partial ratio section\n",
    "    if label == False:\n",
    "        ratio = fuzz.partial_ratio(title1, title2) #Cuando la comparación \"directa\" falla, relajamos el scorer\n",
    "        #if verbose==5: print(\"partial ratio: \",ratio)\n",
    "                \n",
    "        if ratio > partial_thold and length_check: #si el score supera el umbral (que debería ser mayor al umbral del ratio)\n",
    "            label=True\n",
    "        elif ratio > low_thold: #si no lo supera pero sigue siendo un valor alto, revisa el año y la revista\n",
    "            if journal_check and year_check:\n",
    "                label=True\n",
    "             \n",
    "    return label\n",
    "\n",
    "def colav_similarity(title1,title2,journal1,journal2,year1,year2,ratio_thold=90, partial_thold=95, low_thold=80,use_regex=True):\n",
    "    '''\n",
    "    Compare two papers to know if they are the same or not.\n",
    "\n",
    "    It uses the title, year and journal names of both papers to compare them in an somewhat elaborated way. Titles are compared using various algorithms of string comparison from thefuzz library with diferent levels of tolerance if its within a range determined by some threshold variables. The years must be the same, though we've seen an erro of +/- one year. Journal names are also compared using thefuzz's algorithms\n",
    "    \n",
    "    parameters\n",
    "    ----------\n",
    "        title1: str title of one of the papers\n",
    "        title2: str title of the other paper\n",
    "        journal1: str name of the journal in which one of the papers was published\n",
    "        journal2: str name of the journal in which the other paper was published\n",
    "        year1: int year in which one of the papers was published\n",
    "        year2: int year in which the other paper was published\n",
    "        ratio_thold: int threshold to compare through ratio function in thefuzz library\n",
    "        partial_ratio_thold: int threshold to compare throughpartial_ratio function in thefuzz library\n",
    "        low_thold: int threshold to discard some results with lower score values\n",
    "        use_regex: bool Uses a regex to clean the titles\n",
    "        \n",
    "    Returns\n",
    "    -------\n",
    "    label: bool true when the papers are (potentially) the same.\n",
    "    '''\n",
    "    title1 = unidecode(title1.lower())\n",
    "    title2 = unidecode(title2.lower())\n",
    "    \n",
    "    if year1: year1=int(year1)\n",
    "    if year2: year2=int(year2)\n",
    "    \n",
    "    label = False\n",
    "    \n",
    "    if not use_regex:\n",
    "        label = __colav_similarity(title1,title2,journal1,journal2, year1,year2,ratio_thold, partial_thold,low_thold,translation=translate)\n",
    "    elif use_regex:\n",
    "        label = __colav_similarity(parse_string(title1), parse_string(title2),journal1,journal2, year1,year2,ratio_thold, partial_thold,low_thold)\n",
    "    return label"
   ]
  },
  {
   "cell_type": "markdown",
   "id": "6d434a9c-406c-4fd1-877c-1121af1cd27a",
   "metadata": {},
   "source": [
    "### Balanceo de clases"
   ]
  },
  {
   "cell_type": "code",
   "execution_count": 152,
   "id": "b7a89121-3021-4888-abe6-53560a4314d7",
   "metadata": {},
   "outputs": [
    {
     "name": "stdout",
     "output_type": "stream",
     "text": [
      "Presentación\n",
      "\t['Presentación ', 'Presentación']\n",
      "Importancia de la vena cística en la colecistectomía laparoscópica\n",
      "\t['Importance of the cystic vein in laparoscopic cholecystectomy ', 'Importancia de la vena cística en la colecistectomía laparoscópica']\n",
      "75 lecciones aprendidas en programas de alfabetización informacional en universidades iberoamericanas\n",
      "\t['75 lessons learned from information literacy programs in Ibero-American universities ', '75 lecciones aprendidas en programas de alfabetizacio´n informacional en universidades iberoamericanas']\n",
      "Espermicida y espermiostático: ¿hacen referencia a lo mismo?\n",
      "\t['Spermicide and spermiostatic: Do they refer to the same thing? ', 'Espermicida y espermiostático: Hacen referencia a lo mismo?']\n",
      "Is Communication Still Possible Amid the Reign of \"Incommunication\"?\n",
      "\t['Is communication still possible amid the reign of \" incommunication\"? ', '¿Es aún posible la comunicación en medio del imperio de la incomunicación?']\n",
      "Mortalidad por paludismo en Colombia, 1979-2008\n",
      "\t['Malaria mortality in Colombia, 1979-2008 ', 'Mortalidad por paludismo en Colombia, 1979-2008']\n"
     ]
    },
    {
     "data": {
      "text/plain": [
       "193454"
      ]
     },
     "execution_count": 152,
     "metadata": {},
     "output_type": "execute_result"
    }
   ],
   "source": [
    "results=[]\n",
    "random_print=list(np.random.random(len(openalexdata)))\n",
    "for i,oa_reg in enumerate(openalexdata):\n",
    "    if \"host_venue\" not in oa_reg.keys():\n",
    "        continue\n",
    "    if not oa_reg[\"host_venue\"]:\n",
    "        continue\n",
    "    if \"display_name\" not in oa_reg[\"host_venue\"].keys():\n",
    "        continue\n",
    "    if not oa_reg[\"host_venue\"][\"display_name\"]:\n",
    "        continue\n",
    "    scopus_reg = list(scopus.find({\"$text\":{\"$search\":oa_reg[\"title\"].lower(),\"$caseSensitive\":False},\"DOI\":{\"$ne\":None}}).limit(1))\n",
    "    if scopus_reg:\n",
    "        #removing pairs that have the exact same title\n",
    "        #we do this by removing punctuation, without encoding, lowercase and removing all blank spaces (only for the comparison)\n",
    "        \n",
    "        #this has been made since we are not interested in the correctenss of the algorithm\n",
    "        #when the titles are exactly the same, we have to explore the problematic portions of the problem\n",
    "        title_oa=re.sub(r'[^\\w\\s]', '', unidecode(oa_reg[\"title\"]).lower()).replace(\" \",\"\")\n",
    "        titles_scopus=scopus_reg[0][\"Title\"].replace(\"]\",\"\").split(\"[\")\n",
    "        #sometimes scopus gives the title with translations enclosed between []\n",
    "        #so we have to compare the title from openalex to every other scopus translated title\n",
    "        \n",
    "        same=False\n",
    "        for title_scopus in titles_scopus:\n",
    "            title_scopus=re.sub(r'[^\\w\\s]', '', unidecode(title_scopus).lower()).replace(\" \",\"\")\n",
    "            if title_oa==title_scopus:\n",
    "                same=True\n",
    "                break\n",
    "        if same:\n",
    "            if len(titles_scopus)>1 and random_print[i]>0.99:\n",
    "                print(\"{}\\n\\t{}\".format(oa_reg[\"title\"],titles_scopus))\n",
    "        else:\n",
    "            results.append([oa_reg,scopus_reg[0]])\n",
    "len(results)"
   ]
  },
  {
   "cell_type": "code",
   "execution_count": 153,
   "id": "e4d84596-8447-46cc-84b8-bc0184cedde6",
   "metadata": {},
   "outputs": [
    {
     "name": "stdout",
     "output_type": "stream",
     "text": [
      "214 140611\n"
     ]
    }
   ],
   "source": [
    "positives=[]\n",
    "for x,y in results:\n",
    "    if \"DOI\" in y.keys():\n",
    "            if isinstance(y[\"DOI\"],str):\n",
    "                if x[\"doi\"].replace(\"https://doi.org/\",\"\").lower()==y[\"DOI\"].lower():\n",
    "                    positives.append([x,y])\n",
    "negatives=[]\n",
    "for x,y in results:\n",
    "    if \"DOI\" in y.keys():\n",
    "            if isinstance(y[\"DOI\"],str):\n",
    "                if x[\"doi\"].replace(\"https://doi.org/\",\"\").lower()!=y[\"DOI\"].lower():\n",
    "                    negatives.append([x,y])\n",
    "print(len(positives),len(negatives))"
   ]
  },
  {
   "cell_type": "code",
   "execution_count": 161,
   "id": "a6054f6c-646b-4ce6-8f05-573124f259f0",
   "metadata": {},
   "outputs": [
    {
     "data": {
      "text/plain": [
       "[{'_id': ObjectId('637cfba9244b9f9d0fe21955'),\n",
       "  'doi': 'https://doi.org/10.1007/s10843-015-0162-8',\n",
       "  'title': 'Is Entrepreneurial Internationalization a field? A bibliometric analysis (1989-2015)',\n",
       "  'publication_year': 2016,\n",
       "  'host_venue': {'id': 'https://openalex.org/V175138789',\n",
       "   'issn_l': '1570-7385',\n",
       "   'issn': ['1573-7349', '1570-7385'],\n",
       "   'display_name': 'Journal of International Entrepreneurship',\n",
       "   'publisher': 'Springer Nature',\n",
       "   'type': 'publisher',\n",
       "   'url': 'https://doi.org/10.1007/s10843-015-0162-8',\n",
       "   'is_oa': False,\n",
       "   'version': None,\n",
       "   'license': None}},\n",
       " {'_id': ObjectId('5f8637b692dec2f3a4e36831'),\n",
       "  'Authors': 'Servantie V., Cabrol M., Guieu G., Boissin J.-P.',\n",
       "  'Author(s) ID': '57160168700;25644304700;27367858900;7006363664;',\n",
       "  'Title': 'Is international entrepreneurship a field? A bibliometric analysis of the literature (1989–2015) [L’entrepreneuriat international est-il un champ? Une analyse bibliométrique de la littérature (1989–2015)] [¿Es el emprendimiento internacional un campo? Un análisis bibliométrico de la literatura (1989–2015)]',\n",
       "  'Year': 2016,\n",
       "  'Source title': 'Journal of International Entrepreneurship',\n",
       "  'Volume': '14',\n",
       "  'Issue': '2',\n",
       "  'Art No': nan,\n",
       "  'Page start': '168',\n",
       "  'Page end': '212',\n",
       "  'Page count': nan,\n",
       "  'Cited by': 34.0,\n",
       "  'DOI': '10.1007/s10843-015-0162-8',\n",
       "  'Link': 'https://www.scopus.com/inward/record.uri?eid=2-s2.0-84960110836&doi=10.1007%2fs10843-015-0162-8&partnerID=40&md5=823f2ffa8dddb3239b1018c2ffaa1b0e',\n",
       "  'Affiliations': 'School of Management, Los Andes University, Calle 21 No. 1-20, Of. SD1009, Bogota, Colombia; Université de Savoie Mont-Blanc, IREGE, Chambéry, France; Aix-Marseille Université, CRET-LOG EA 881, Aix-en-Provence, France; Université Pierre-Mendès-France, Saint-Martin-d’Hères, France',\n",
       "  'Authors with affiliations': 'Servantie, V., School of Management, Los Andes University, Calle 21 No. 1-20, Of. SD1009, Bogota, Colombia; Cabrol, M., Université de Savoie Mont-Blanc, IREGE, Chambéry, France; Guieu, G., Aix-Marseille Université, CRET-LOG EA 881, Aix-en-Provence, France; Boissin, J.-P., Université Pierre-Mendès-France, Saint-Martin-d’Hères, France',\n",
       "  'Abstract': 'The abundant academic literature on international entrepreneurship has attracted the attention of many researchers in various fields (international business, entrepreneurship, management, marketing, to mention a few). A debate has been opened on whether international entrepreneurship is indeed a field. In this article, we seek to contribute to this debate. We applied a bibliometric analysis to 567 articles on international entrepreneurship published during the 1989–February 2015 period. The main indices that this is an emerging field are as follows: a concentration of publications on central contributors and universities, key dates of social events, the creation of a journal dedicated to the topic and a strong identity of keywords. A co-citation analysis shows that the international entrepreneurship field is structured on a stable body of references, organised into five key clusters, distinct from its mother disciplines: international business and entrepreneurship. Our work helps to identify the paradigmatic approaches that structure international entrepreneurship. © 2016, Springer Science+Business Media New York.',\n",
       "  'Author Keywords': 'Bibliometrics; Co-citation analysis; International entrepreneurship',\n",
       "  'Index Keywords': nan,\n",
       "  'Molecular Sequence Numbers': nan,\n",
       "  'Chemicals/CAS': nan,\n",
       "  'Tradenames': nan,\n",
       "  'Manufacturers': nan,\n",
       "  'Funding Details': nan,\n",
       "  'Funding Text 1': nan,\n",
       "  'Funding Text 2': nan,\n",
       "  'Funding Text 3': nan,\n",
       "  'Funding Text 4': nan,\n",
       "  'Funding Text 5': nan,\n",
       "  'Funding Text 6': nan,\n",
       "  'References': 'Aharoni, Y., (1966) The foreign direct investment process, , Harvard University Press, Boston; Andersen, O., On the internationalization process of firms: a critical analysis (1993) J Int Bus Stud, 24 (2), pp. 209-231; Andersson, S., Wictor, I., Innovative internationalisation in new firms—born globals the Swedish case (2003) J Int Entrep, 1 (3), pp. 249-276; Autio, E., Creative tension: the significance of Ben Oviatt’s and Patricia McDougall’s article ‘toward a theory of international new ventures’ (2005) J Int Bus Stud, 36 (1), pp. 9-19; Autio, E., Sapienza, H.J., Almeida, J.G., Effects of age at entry, knowledge intensity, and imitability on international growth (2000) Acad Manag J, 43 (5), pp. 909-924; Barney, J., Firm resources and sustained competitive advantage (1991) J Manag, 17 (1), pp. 99-120; Bell, J., The internationalization of small computer software firms (1995) Eur J Mark, 29 (8), pp. 60-75; (2001) J Int Manag, , Bell J, McNaughton R, Young S, ‘Born-again global’firms: an extension to the ‘born global’phenomenon. 7(3):173–189; Bell, J., McNaughton, R., Young, S., Crick, D., Towards an integrative model of small firm internationalization (2003) J Int Entrep, 1 (4), pp. 339-362; Bilkey, W.J., Tesar, G., The export behaviour of smaller-sized Wisconsin manufacturing firms (1977) J Int Bus Stud, 8 (1), pp. 93-98; Bloodgood, J.M., Sapienza, H.J., Almeida, J.G., The internationalization of new high-potential U.S. ventures: antecedents and outcomes (1996) Enterp Theory Pract, 20 (4), pp. 61-76; Bourdieu, P., (1988) Homo academicus, , Stanford University Press, Stanford; Burgel, O., Murray, G.C., The international market entry choices of start-up companies in hightechnology industries (2000) J Int Mark, 8 (2), pp. 33-62; Callon, M., Law, J., Rip, A., (1986) Mapping the dynamics of science and technology, , Macmillan, London; Cavusgil, S.T., Knight, G., The born global firm: an entrepreneurial and capabilities perspective on early and rapid internationalization (2015) J Int Bus Stud, 46 (1), pp. 3-16; Chetty, S., Campbell-Hunt, C., A strategic approach to internationalization: a traditional versus a “bornglobal” approach (2004) J Int Mark, 12 (1), pp. 57-81; Cohen, W.M., Levinthal, D.A., Absorptive capacity: a new perspective on learning and innovation (1990) Adm Sci Q, 35 (1), pp. 128-152; Coombs, J.E., Sadrieh, F., Annavarjula, M., Two decades of international entrepreneurship research: what have we learned-where do we go from here? (2009) Int J Entrep, 13, pp. 23-64; Coviello, N.E., The network dynamics of international new ventures (2006) J Int Bus Stud, 37 (5), pp. 713-731; Coviello, N.E., Jones, M.V., Methodological issues in international entrepreneurship research (2004) J Bus Ventur, 19 (4), pp. 485-508; Coviello, N.E., McAuley, A., Internationalisation and the smaller firm: a review of contemporary empirical research (1999) Manag Int Rev, 39 (3), pp. 223-256; Coviello, N.E., Munro, H.J., Growing the entrepreneurial firm, networking for international marketing development (1995) Eur J Mark, 29 (7), pp. 49-61; Coviello, N.E., Munro, H.J., Network relationships and the internationalization process of small software firms (1997) Int Bus Rev, 6 (4), pp. 361-386; Coviello, N.E., Jones, M.V., McDougall-Covin, P.P., Is international entrepreneurship research a viable spin-off from its parent disciplines (2015) Rethinking entrepreneurship: debating research orientations, , Fayolle A, Riot P, (eds), Routledge, London; Covin, J.G., Slevin, D.P., Strategic management of small firms in hostile and benign environments (1989) Strateg Manag J, J10 (1), pp. 75-87; Crick, D., Jones, M.V., Small high-technology firms and international high-technology markets (2000) J Int Mark, 8 (2), pp. 63-85; Cyert, R.M., March, J.G., (1963) A behavioral theory of the firm, , Prentice Hall, Englewood Cliffs; Dana, L.P., Etemad, H., Wright, R.W., The impact of globalization on SMEs (1999) Glob Focus, 11 (4), pp. 93-105; Dana, L.P., Etemad, H., Wright, R.W., The theoretical foundations of international entrepreneurship (1999) Global strategic management international entrepreneurship: globalization of emerging business, pp. 3-23. , Wright RW, (ed), JAI Press, Stanford; Dunning, J.H., The eclectic paradigm of international production: a restatement and some possible extension (1988) J Int Bus Stud, 19 (1), pp. 1-31; Eisenhardt, K.M., Building theories from case study research (1989) Acad Manag Rev, 14 (4), pp. 532-550; Eriksson, K., Johanson, J., Majkgard, A., Sharma, D.D., Experiential knowledge and cost in the internationalization process (1997) J Int Bus Stud, 28 (2), pp. 337-360; Etemad, H., E-commerce: the emergence of a field and its knowledge network (2004) Int J Technol Manag, 28 (7-8), pp. 776-800; Etemad, H., Lee, Y., The knowledge network of international entrepreneurship: theory and evidence (2003) Small Bus Econ, 20 (1), pp. 5-23; Etemad, H., Wright, R.W., Internationalization of SMEs: toward a new paradigm (2003) Small Bus Econ, 20 (1), pp. 1-4; Hambrick, D.C., Chen, M.-J., New academic fields as admittance-seeking social movements: the case of strategic management (2008) Acad Manag Rev, 33 (1), pp. 32-54; Johanson, J., Mattsson, L.G., Internationalization in industrial system: a network approach (1988) Strategies in global competition, pp. 287-314. , Hood N, Vahlne JE, (eds), Croom Helm, New York; Johanson, J., Vahlne, J.E., The internationalization of the firm—a model of knowledge development and increasing foreign market commitments (1977) J Int Bus Stud, 8 (1), pp. 23-32; Johanson, J., Vahlne, J.E., The mechanism of internationalisation (1990) Int Mark Rev, 7 (4), pp. 11-24; Johanson, J., Vahlne, J.E., Business relationship learning and commitment in the internationalization process (2003) J Int Entrep, 1 (1), pp. 83-101; Johanson, J., Wiedersheim Paul, F., The internationalization of the firm—four swedish cases (1975) J Manag Stud, 12 (3), pp. 305-323; Jolly, V.K., Alahuhta, M., Jeannet, J.P., Challenging the incumbents: how high technology start ups compete globally (1992) Strateg Change, 1 (2), pp. 71-82; Jones, M.V., The internationalization of small high-technology firms (1999) J Int Mark, 7 (4), pp. 15-41; Jones, M.V., Coviello, N.E., Internationalisation: conceptualising an entrepreneurial process behaviour in time (2005) J Int Bus Stud, 36 (3), pp. 284-303; Jones, M.V., Coviello, N., Tang, Y., International entrepreneurship research (1989–2009): a domain ontology and thematic analysis (2011) J Bus Ventur, 26 (6), pp. 632-659; Keupp, M.M., Gassmann, O., The past and the future of international entrepreneurship: a review and suggestions for developing the field (2009) J Manag, 35 (3), pp. 600-633; Kiss, A.N., Danis, W.M., Cavusgil, S.T., International entrepreneurship research in emerging economies: a critical review and research agenda (2012) J Bus Ventur, 27 (2), pp. 266-290; Knight, G.A., Cavusgil, S.T., The born global firm: a challenge to traditional internationalization theory (1996) Adv Int Mark, 8, pp. 11-26; Knight, G.A., Cavusgil, S.T., Innovation, organizational capabilities and the born-global firm (2004) J Int Bus Stud, 35 (2), pp. 124-141; Lu, J.W., Beamish, P.W., The internationalization and performance of SMEs (2001) Strat Manag J, 22 (6-7), pp. 565-586; Lumpkin, G.T., Dess, G.G., Clarifying the entrepreneurial orientation construct and linking it to performance (1996) Acad Manag Rev, 21 (1), pp. 135-172; Madsen, T.K., Early and rapidly internationalizing ventures: similarities and differences between classifications based on the original international new venture and born global literatures (2013) J Int Entrep, 11 (1), pp. 65-79; Madsen, T.K., Servais, P., The internationalization of born globals: an evolutionary process? (1997) Int Bus Rev, 6 (6), p. 561; McCain, K.W., Mapping authors in intellectual space: a technical overview (1990) J Am Soc Inf Sci, 41 (6), pp. 433-443; McDougall, P.P., International versus domestic entrepreneurship: new venture strategic behaviour and industry structure (1989) J Bus Ventur, 4 (6), pp. 387-400; McDougall, P.P., Oviatt, B.M., New venture internationalization, strategic change, and performance: A follow-up study (1996) J Bus Ventur, 11 (1), pp. 23-40; McDougall, P.P., Oviatt, B.M., International entrepreneurship: the intersection of two research paths (2000) Acad Manag J, 43 (5), pp. 902-906; McDougall, P.P., Oviatt, B.M., Shrader, R.C., A comparison of international and domestic new ventures (2003) J Int Entrep, 1 (1), pp. 59-82; McDougall, P.P., Shane, S., Oviatt, B.M., Explaining the formation of international new ventures: the limits of theories from international business research (1994) J Bus Ventur, 9 (6), pp. 469-487; McDougall-Covin, P.P., Jones, M.V., Serapio, M.G., High-potential concepts, phenomena, and theories for the advancement of international entrepreneurship research (2014) Enterp Theory Pract, 38 (1), pp. 1-10; Emerging exporters: Australia’s high value-added manufacturing exporters (1993), Australian Manufacturing Council, Melbourne; Moen, Ø., The born globals: a new generation of small European exporters (2002) Int Mark Rev, 19 (2), pp. 156-175; Moen, Ø., Servais, P., Born global or gradual global? Examining the export behaviour of small and medium-sized enterprises (2002) J Int Mark, 10 (3), pp. 49-72; Nerur, S.P., Rasheed, A.A., Natarajan, V., The intellectual structure of the strategic management field: an author co-citation analysis (2008) Strat Manag J, 29 (3), pp. 319-336; Oviatt, B.M., McDougall, P.P., Toward a theory of international new ventures (1994) J Int Bus Stud, 25 (1), pp. 45-64; Oviatt, B.M., McDougall, P.P., Global start-ups: entrepreneurs on a worldwide stage (1995) Acad Manag Exec, 9 (2), pp. 30-43; Oviatt, B.M., McDougall, P.P., Challenges for internationalization process theory: the case of international new ventures (1997) Manag Int Rev, 37 (2), pp. 85-99; Oviatt, B.M., McDougall, P.P., The internationalization of entrepreneurship (2005) J Int Bus Stud, 36 (1), pp. 2-8; Peiris, I.K., Akoorie, M.E.M., Sinha, P., International entrepreneurship: a critical analysis of studies in the past two decades and future directions for research (2012) J Int Entrep, 10 (4), pp. 279-324; Penrose, E.T., (1959) The theory of the growth of the firm, , Wiley, New York; Peteraf, M., Di Stefano, G., Verona, G., The elephant in the room of dynamic capabilities: bringing two diverging conversations together (2013) Strateg Manag J, 34 (12), pp. 1389-1410; Porter, M.E., Competitive strategy: techniques for analyzing industries and competition (1980), The Free Press, New York; Rennie, M.W., Global competitiveness: born global (1993) McKinsey Q, 4 (4), pp. 45-52; Reuber, A.R., Fischer, E., The influence of the management team’s international experience on the internationalization behaviors of SMEs (1997) J Int Bus Stud, 28 (4), pp. 807-825; Rialp, A., Rialp, J., Knight, G.A., The phenomenon of early internationalizing firms: what do we know after a decade (1993–2003) of scientific inquiry? (2005) Int Bus Rev, 14 (2), pp. 147-166; Rialp, A., Rialp, J., Knight, G.A., International entrepreneurship: a review and future directions (2014) The Routledge companion to international entrepreneurship, pp. 7-28. , Fernhaber SA, Prashantham S, (eds), Routledge, London; Sapienza, H.J., Autio, E., George, G., Zahra, S.A., A capabilities perspective on the effects of early internationalization on firm survival and growth (2006) Acad Manag Rev, 31 (4), pp. 914-933; Sharma, D.D., Blomstermo, A., The internationalization process of born globals: a network view (2003) Int Bus Rev, 12 (6), pp. 739-753; Shane, S., Venkataraman, S., The promise of entrepreneurship as a field of research (2000) Acad Manag Rev, 25 (1), pp. 217-226; Stinchcombe, A.L., Organizations and social structure (1965) Handbook of Organizations, 44 (2), pp. 142-193; Styles, C., Seymour, R.G., Opportunities for marketing researchers in international entrepreneurship (2006) Int Mark Rev, 23 (2), pp. 126-145; Teece, D.J., Pisano, G., Shuen, A., Dynamic capabilities and strategic management (1997) Strateg Manag, J18 (7), pp. 509-533; Terjesen, S., Hessels, J., Li, D., Comparative international entrepreneurship: a review and research agenda (2013) J Manag; Welch, L.S., Luostarinen, R., Internationalization: evolution of a concept (1988) Internationalization Firm, 14, pp. 83-98; Westhead, P., Wright, M., Ucbasaran, D., The internationalization of new and small firms: a resourcebased view (2001) J Bus Ventur, 16 (4), pp. 333-358; Yli-Renko, H., Autio, E., Tontti, V., Social capital knowledge and the international growth of technologybased new firms (2002) Int Bus Rev, 11 (3), pp. 279-304; Zaheer, S., Overcoming the liability of foreignness (1995) Acad Manag J, 38 (2), pp. 341-363; Zahra, S.A., A theory of international new ventures: a decade of research (2005) J Int Bus Stud, 36 (1), pp. 20-28; Zahra, S.A., George, G., International entrepreneurship: the current status of the field and future agenda (2002) Strategic entrepreneurship: creating a new mindset, pp. 255-288. , Hitt MA, Ireland RD, Camp SM, Sexton DL, (eds), Blackwell, Oxford; Zahra, S.A., Ireland, R.D., Hitt, M.A., International expansion by new venture firms: international diversity, mode of market entry, technological learning and performance (2000) Acad Manag J, 43 (5), pp. 925-950',\n",
       "  'Correspondence Address': 'Servantie, V.; School of Management, Los Andes University, Calle 21 No. 1-20, Of. SD1009, Colombia; email: svincian@uniandes.edu.co',\n",
       "  'Editors': nan,\n",
       "  'Sponsors': nan,\n",
       "  'Publisher': 'Springer New York LLC',\n",
       "  'Conference name': nan,\n",
       "  'Conference date': nan,\n",
       "  'Conference location': nan,\n",
       "  'Conference code': nan,\n",
       "  'ISSN': '15707385',\n",
       "  'ISBN': nan,\n",
       "  'CODEN': nan,\n",
       "  'PubMed ID': nan,\n",
       "  'Language of Original Document': 'English',\n",
       "  'Abbreviated Source Title': 'J. Int. Entrep.',\n",
       "  'Document Type': 'Article',\n",
       "  'Publication Stage': 'Final',\n",
       "  'Access Type': nan,\n",
       "  'Source': 'Scopus',\n",
       "  'EID': '2-s2.0-84960110836',\n",
       "  'doi_idx': '10.1007/s10843-015-0162-8'}]"
      ]
     },
     "execution_count": 161,
     "metadata": {},
     "output_type": "execute_result"
    }
   ],
   "source": [
    "positives[10]"
   ]
  },
  {
   "cell_type": "code",
   "execution_count": 168,
   "id": "430a6ec0-20c3-4206-a06d-541acc15d0c7",
   "metadata": {},
   "outputs": [],
   "source": [
    "#2093 140872\n",
    "def balanced_comparison(oa,scopus,title_comparison=\"direct\",verbose=0):\n",
    "    '''\n",
    "    Takes a openalex's register and compares it to a scopus register to report if its the same paper or not.\n",
    "\n",
    "    It takes an openalex register and finds a match through a text search in Scopus' database with the openalex's title. Then, it compares the titles, years and journals' names (depending on the chosen algorithm) to report its contribution to the confusion matrix\n",
    "\n",
    "    Parameters\n",
    "    ----------\n",
    "        oa_reg: dict OpenAlex register\n",
    "        title_comparison: an algorithm to compare the two registers (direct, ratio,token_set_ratio, colav)\n",
    "        verbose: the quantity of messages that the function will print on screen\n",
    "        \n",
    "    Returns\n",
    "    -------\n",
    "        conf: list The contribution of the comparison to a matrix of confusion\n",
    "        \n",
    "    '''\n",
    "    conf=[0,0,0,0]\n",
    "    oa_doi = oa[\"doi\"].replace(\"https://doi.org/\",\"\").lower()\n",
    "    comparison=None\n",
    "    #if fuzz.ratio(scopus_reg[\"Title\"].lower(),oa_reg[\"title\"].lower())>99:\n",
    "    if title_comparison==\"direct\":\n",
    "        comparison=unidecode(scopus[\"Title\"]).lower()==unidecode(oa[\"title\"]).lower()\n",
    "    elif title_comparison==\"ratio\":\n",
    "        comparison=fuzz.ratio(unidecode(scopus[\"Title\"]).lower(),unidecode(oa[\"title\"]).lower())==100\n",
    "    elif title_comparison==\"token_set_ratio\":\n",
    "        comparison=fuzz.token_set_ratio(unidecode(scopus[\"Title\"]).lower(),unidecode(oa[\"title\"]).lower())==100\n",
    "    elif title_comparison==\"colav\":\n",
    "        comparison=colav_similarity(\n",
    "            oa[\"title\"],\n",
    "            scopus[\"Title\"],\n",
    "            oa[\"host_venue\"][\"display_name\"].lower(),\n",
    "            scopus[\"Source title\"].lower(),\n",
    "            oa[\"publication_year\"],\n",
    "            scopus[\"Year\"]\n",
    "        )\n",
    "    if comparison:\n",
    "        if oa_doi==scopus[\"DOI\"].lower():\n",
    "            conf[0]+=1\n",
    "        else:\n",
    "            conf[1]+=1\n",
    "    else:\n",
    "        if oa_doi==scopus[\"DOI\"].lower():\n",
    "            conf[3]+=1\n",
    "        else:\n",
    "            conf[2]+=1\n",
    "    return conf"
   ]
  },
  {
   "cell_type": "code",
   "execution_count": 177,
   "id": "4be54a0c-44a6-4ab7-baa3-35625675cb61",
   "metadata": {},
   "outputs": [
    {
     "data": {
      "text/plain": [
       "400"
      ]
     },
     "execution_count": 177,
     "metadata": {},
     "output_type": "execute_result"
    }
   ],
   "source": [
    "total=200 # each class\n",
    "chosen_index = np.random.choice(len(positives),total,replace=False)\n",
    "balanced_set=[x for i,x in enumerate(positives) if i in chosen_index]\n",
    "chosen_index = np.random.choice(len(negatives),total,replace=False)\n",
    "balanced_set.extend([x for i,x in enumerate(negatives) if i in chosen_index])\n",
    "len(balanced_set)"
   ]
  },
  {
   "cell_type": "code",
   "execution_count": 178,
   "id": "39f472fc-3600-49df-b079-5856821472b0",
   "metadata": {},
   "outputs": [
    {
     "name": "stdout",
     "output_type": "stream",
     "text": [
      "[126, 0, 200, 74] 400\n",
      "TP: 126. \tFN: 74\n",
      "FP: 0. \tTN: 200\n",
      "Accuracy: 0.81\n",
      "Precision: 1.00\n",
      "Recall: 0.63\n",
      "CPU times: user 30.9 ms, sys: 3.96 ms, total: 34.9 ms\n",
      "Wall time: 37.4 ms\n"
     ]
    }
   ],
   "source": [
    "%%time\n",
    "#fuzz token_set_ratio at 100\n",
    "a=0\n",
    "conf=[0,0,0,0] # [vp,fp,vn,fn]\n",
    "result=Parallel(n_jobs=20,backend=\"threading\",verbose=0)(delayed(balanced_comparison)(x,y,\"token_set_ratio\") for x,y in balanced_set)\n",
    "for res in result:\n",
    "    for i in range(len(conf)):\n",
    "        conf[i]+=res[i]\n",
    "print(conf,np.sum(conf))\n",
    "print(\"TP: {}. \\tFN: {}\".format(conf[0],conf[-1]))\n",
    "print(\"FP: {}. \\tTN: {}\".format(conf[1],conf[-2]))\n",
    "acc=(conf[0]+conf[-2])/np.sum(conf)\n",
    "print(\"Accuracy: {:.2f}\".format(acc))\n",
    "print(\"Precision: {:.2f}\".format(conf[0]/(conf[0]+conf[1])))\n",
    "print(\"Recall: {:.2f}\".format(conf[0]/(conf[0]+conf[-1])))"
   ]
  },
  {
   "cell_type": "code",
   "execution_count": 179,
   "id": "e22adbc7-ac74-47d9-ba74-7727ba79792f",
   "metadata": {},
   "outputs": [
    {
     "name": "stdout",
     "output_type": "stream",
     "text": [
      "[13, 0, 200, 187] 400\n",
      "TP: 13. \tFN: 187\n",
      "FP: 0. \tTN: 200\n",
      "Accuracy: 0.53\n",
      "Precision: 1.00\n",
      "Recall: 0.07\n",
      "CPU times: user 35.9 ms, sys: 167 µs, total: 36 ms\n",
      "Wall time: 41.8 ms\n"
     ]
    }
   ],
   "source": [
    "%%time\n",
    "#fuzz ratio at 100\n",
    "conf=[0,0,0,0] # [vp,fp,vn,fn]\n",
    "result=Parallel(n_jobs=20,backend=\"threading\",verbose=0)(delayed(balanced_comparison)(x,y,\"ratio\") for x,y in balanced_set)\n",
    "for res in result:\n",
    "    for i in range(len(conf)):\n",
    "        conf[i]+=res[i]\n",
    "print(conf,np.sum(conf))\n",
    "print(\"TP: {}. \\tFN: {}\".format(conf[0],conf[-1]))\n",
    "print(\"FP: {}. \\tTN: {}\".format(conf[1],conf[-2]))\n",
    "acc=(conf[0]+conf[-2])/np.sum(conf)\n",
    "print(\"Accuracy: {:.2f}\".format(acc))\n",
    "print(\"Precision: {:.2f}\".format(conf[0]/(conf[0]+conf[1])))\n",
    "print(\"Recall: {:.2f}\".format(conf[0]/(conf[0]+conf[-1])))"
   ]
  },
  {
   "cell_type": "code",
   "execution_count": 180,
   "id": "5cdab4a6-2891-409b-b6c5-2cd1a184d393",
   "metadata": {},
   "outputs": [
    {
     "name": "stdout",
     "output_type": "stream",
     "text": [
      "[183, 1, 199, 17] 400\n",
      "TP: 183. \tFN: 17\n",
      "FP: 1. \tTN: 199\n",
      "Accuracy: 0.95\n",
      "Precision: 0.99\n",
      "Recall: 0.92\n",
      "CPU times: user 44.2 ms, sys: 7.68 ms, total: 51.9 ms\n",
      "Wall time: 50.2 ms\n"
     ]
    }
   ],
   "source": [
    "%%time\n",
    "#colav\n",
    "conf=[0,0,0,0] # [vp,fp,vn,fn]\n",
    "result=Parallel(n_jobs=20,backend=\"threading\",verbose=0)(delayed(balanced_comparison)(x,y,\"colav\") for x,y in balanced_set)\n",
    "for res in result:\n",
    "    for i in range(len(conf)):\n",
    "        conf[i]+=res[i]\n",
    "print(conf,np.sum(conf))\n",
    "print(\"TP: {}. \\tFN: {}\".format(conf[0],conf[-1]))\n",
    "print(\"FP: {}. \\tTN: {}\".format(conf[1],conf[-2]))\n",
    "acc=(conf[0]+conf[-2])/np.sum(conf)\n",
    "print(\"Accuracy: {:.2f}\".format(acc))\n",
    "print(\"Precision: {:.2f}\".format(conf[0]/(conf[0]+conf[1])))\n",
    "print(\"Recall: {:.2f}\".format(conf[0]/(conf[0]+conf[-1])))"
   ]
  },
  {
   "cell_type": "code",
   "execution_count": 172,
   "id": "3bbff07f-29d7-4bf1-bb4d-b94a532990fc",
   "metadata": {},
   "outputs": [],
   "source": [
    "metrics_list=[[],[],[],[]]\n",
    "for k in range(200): # 200 repetitions of the experiment\n",
    "    total=50 # each class\n",
    "    chosen_index = np.random.choice(len(positives),total,replace=False)\n",
    "    balanced_set=[x for i,x in enumerate(positives) if i in chosen_index]\n",
    "    chosen_index = np.random.choice(len(negatives),total,replace=False)\n",
    "    balanced_set.extend([x for i,x in enumerate(negatives) if i in chosen_index])\n",
    "    conf=[0,0,0,0] # [vp,fp,vn,fn]\n",
    "    result=Parallel(n_jobs=20,backend=\"threading\",verbose=0)(delayed(balanced_comparison)(x,y,\"colav\") for x,y in balanced_set)\n",
    "    for res in result:\n",
    "        for i in range(len(conf)):\n",
    "            conf[i]+=res[i]\n",
    "    accuracy = (conf[0]+conf[-2])/np.sum(conf)\n",
    "    metrics_list[0].append(accuracy)\n",
    "    precision = conf[0]/(conf[0]+conf[1]) \n",
    "    metrics_list[1].append(precision)\n",
    "    recall = conf[0]/(conf[0]+conf[-1])\n",
    "    metrics_list[2].append(recall)\n",
    "    f1 = 2*conf[0]/(2*conf[0]+conf[1]+conf[-1])\n",
    "    metrics_list[3].append(f1)"
   ]
  },
  {
   "cell_type": "code",
   "execution_count": 173,
   "id": "2e53a7aa-364f-4a05-b773-fa560f2d8e25",
   "metadata": {},
   "outputs": [
    {
     "name": "stdout",
     "output_type": "stream",
     "text": [
      "Mean: 0.954, std: 0.018\n"
     ]
    },
    {
     "data": {
      "image/png": "[encoded data removed]",
      "text/plain": [
       "<Figure size 432x288 with 1 Axes>"
      ]
     },
     "metadata": {
      "needs_background": "light"
     },
     "output_type": "display_data"
    },
    {
     "name": "stdout",
     "output_type": "stream",
     "text": [
      "Mean: 0.998, std: 0.008\n"
     ]
    },
    {
     "data": {
      "image/png": "[encoded data removed]",
      "text/plain": [
       "<Figure size 432x288 with 1 Axes>"
      ]
     },
     "metadata": {
      "needs_background": "light"
     },
     "output_type": "display_data"
    },
    {
     "name": "stdout",
     "output_type": "stream",
     "text": [
      "Mean: 0.911, std: 0.035\n"
     ]
    },
    {
     "data": {
      "image/png": "[encoded data removed]",
      "text/plain": [
       "<Figure size 432x288 with 1 Axes>"
      ]
     },
     "metadata": {
      "needs_background": "light"
     },
     "output_type": "display_data"
    },
    {
     "name": "stdout",
     "output_type": "stream",
     "text": [
      "Mean: 0.952, std: 0.020\n"
     ]
    },
    {
     "data": {
      "image/png": "[encoded data removed]",
      "text/plain": [
       "<Figure size 432x288 with 1 Axes>"
      ]
     },
     "metadata": {
      "needs_background": "light"
     },
     "output_type": "display_data"
    }
   ],
   "source": [
    "labels = [\"Accuracy distribution\",\"Precision distribution\",\"Recall distribution\", \"F1 distribution\"]\n",
    "for i in range(len(metrics_list)):\n",
    "    mu,std = norm.fit(metrics_list[i])\n",
    "    print(\"Mean: {:.3f}, std: {:.3f}\".format(mu,std))\n",
    "    plt.hist(metrics_list[i],bins=15, density=True,alpha=0.6, color=\"b\")\n",
    "\n",
    "    xmin,xmax=plt.xlim()\n",
    "    x=np.linspace(xmin,xmax,100)\n",
    "    p=norm.pdf(x,mu,std)\n",
    "    plt.plot(x,p,'r')\n",
    "    plt.title(labels[i])\n",
    "    plt.show()"
   ]
  },
  {
   "cell_type": "code",
   "execution_count": null,
   "id": "4e33bfb3-140b-40d5-80ab-09ad498e988a",
   "metadata": {},
   "outputs": [],
   "source": []
  },
  {
   "cell_type": "code",
   "execution_count": null,
   "id": "0e288c3c-f15e-4c09-9f37-e25834c1523b",
   "metadata": {},
   "outputs": [],
   "source": []
  }
 ],
 "metadata": {
  "kernelspec": {
   "display_name": "Python 3 (ipykernel)",
   "language": "python",
   "name": "python3"
  },
  "language_info": {
   "codemirror_mode": {
    "name": "ipython",
    "version": 3
   },
   "file_extension": ".py",
   "mimetype": "text/x-python",
   "name": "python",
   "nbconvert_exporter": "python",
   "pygments_lexer": "ipython3",
   "version": "3.10.12"
  }
 },
 "nbformat": 4,
 "nbformat_minor": 5
}
